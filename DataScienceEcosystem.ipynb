{
 "cells": [
  {
   "cell_type": "markdown",
   "id": "74eb44ad-faff-4300-9a3f-1a6d77f22017",
   "metadata": {},
   "source": [
    "Data Science Tools and Ecosystem"
   ]
  },
  {
   "cell_type": "code",
   "execution_count": 1,
   "id": "01fd796a-7a8f-4109-8e39-49094dcc1582",
   "metadata": {},
   "outputs": [
    {
     "ename": "SyntaxError",
     "evalue": "invalid syntax (356759017.py, line 1)",
     "output_type": "error",
     "traceback": [
      "\u001b[1;36m  Cell \u001b[1;32mIn[1], line 1\u001b[1;36m\u001b[0m\n\u001b[1;33m    In this notebook, Data Science Tools and Ecosystem are summarized.\u001b[0m\n\u001b[1;37m       ^\u001b[0m\n\u001b[1;31mSyntaxError\u001b[0m\u001b[1;31m:\u001b[0m invalid syntax\n"
     ]
    }
   ],
   "source": [
    "In this notebook, Data Science Tools and Ecosystem are summarized."
   ]
  },
  {
   "cell_type": "markdown",
   "id": "150057e3-ffbc-4eeb-a1c6-58a998d3cead",
   "metadata": {},
   "source": [
    "In this notebook, Data Science Tools and Ecosystem are summarized."
   ]
  },
  {
   "cell_type": "markdown",
   "id": "2bb1f91c-f2ea-4642-8a9f-2b30506a0169",
   "metadata": {},
   "source": [
    "**Objectives:**\n",
    "\n",
    "- List popular languages for Data Science.\n",
    "- Describe some commonly used libraries in Data Science.\n",
    "- Demonstrate basic arithmetic operations in Python.\n",
    "- Convert minutes to hours using Python.\n",
    "\n"
   ]
  },
  {
   "cell_type": "markdown",
   "id": "1e4c3994-a576-4010-9a37-e0962468255e",
   "metadata": {},
   "source": [
    "Some of the popular languages that Data Scientists use are:\n",
    "\n",
    "1. Python\n",
    "2. R\n",
    "3. SQL"
   ]
  },
  {
   "cell_type": "markdown",
   "id": "bf4ef14d-a1b1-4123-a024-c4754cc90158",
   "metadata": {},
   "source": [
    "Some of the commonly used libraries used by Data Scientists include:\n",
    "\n",
    "1. NumPy\n",
    "2. Pandas\n",
    "3. Matplotlib\n",
    "4. Scikit-learn\n",
    "5. TensorFlow"
   ]
  },
  {
   "cell_type": "markdown",
   "id": "13e6cab5-45b5-490c-a513-a42568bdc7bb",
   "metadata": {},
   "source": [
    "| Data Science Tools |\n",
    "|--------------------|\n",
    "| Jupyter Notebook   |\n",
    "| RStudio            |\n",
    "| Apache Zeppelin    |\n"
   ]
  },
  {
   "cell_type": "markdown",
   "id": "e71a7c53-975e-4fcc-85fe-4983728392d9",
   "metadata": {},
   "source": [
    "### Below are a few examples of evaluating arithmetic expressions in Python.\n",
    "\n",
    "- Addition: `5 + 3` results in `8`\n",
    "- Subtraction: `10 - 4` results in `6`\n",
    "- Multiplication: `7 * 6` results in `42`\n",
    "- Division: `20 / 4` results in `5.0`\n",
    "- Exponentiation: `2 ** 3` results in `8`\n",
    "- Modulus: `10 % 3` results in `1`\n"
   ]
  },
  {
   "cell_type": "code",
   "execution_count": 2,
   "id": "c99210b1-3fd2-47cb-85dd-38f8aabadc30",
   "metadata": {},
   "outputs": [
    {
     "data": {
      "text/plain": [
       "17"
      ]
     },
     "execution_count": 2,
     "metadata": {},
     "output_type": "execute_result"
    }
   ],
   "source": [
    "# This is a simple arithmetic expression to multiply then add integers\n",
    "result = (3 * 4) + 5\n",
    "result\n"
   ]
  },
  {
   "cell_type": "code",
   "execution_count": 3,
   "id": "d1af6a66-3370-4753-8a94-2d127c0b90cb",
   "metadata": {},
   "outputs": [
    {
     "data": {
      "text/plain": [
       "3.3333333333333335"
      ]
     },
     "execution_count": 3,
     "metadata": {},
     "output_type": "execute_result"
    }
   ],
   "source": [
    "# This will convert 200 minutes to hours by dividing by 60\n",
    "minutes = 200\n",
    "hours = minutes / 60\n",
    "hours\n"
   ]
  },
  {
   "cell_type": "markdown",
   "id": "0b24c175-f527-4e32-a39e-ed6062366d76",
   "metadata": {},
   "source": [
    "## Author\n",
    "\n",
    "Sriya\n"
   ]
  },
  {
   "attachments": {},
   "cell_type": "markdown",
   "id": "e2f6aab5-f66f-47e3-8c83-732fd68097ef",
   "metadata": {},
   "source": [
    "## Author\n",
    "\n",
    "Sriya Chilukuri\n"
   ]
  },
  {
   "cell_type": "code",
   "execution_count": null,
   "id": "5ad0deac-44bb-4f9a-a338-484f47c4b2ba",
   "metadata": {},
   "outputs": [],
   "source": []
  }
 ],
 "metadata": {
  "kernelspec": {
   "display_name": "Python 3 (ipykernel)",
   "language": "python",
   "name": "python3"
  },
  "language_info": {
   "codemirror_mode": {
    "name": "ipython",
    "version": 3
   },
   "file_extension": ".py",
   "mimetype": "text/x-python",
   "name": "python",
   "nbconvert_exporter": "python",
   "pygments_lexer": "ipython3",
   "version": "3.12.4"
  }
 },
 "nbformat": 4,
 "nbformat_minor": 5
}
